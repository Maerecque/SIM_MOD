{
 "cells": [
  {
   "cell_type": "code",
   "execution_count": 1,
   "metadata": {},
   "outputs": [],
   "source": [
    "# making globals and imports\n",
    "import scipy as sp\n",
    "import scipy.stats as st\n",
    "import numpy as np\n",
    "import math\n",
    "import matplotlib.pyplot as plt\n",
    "\n",
    "m = 100000"
   ]
  },
  {
   "cell_type": "markdown",
   "metadata": {},
   "source": [
    "## Using a Pseudo random number generator to calculate Pi\n",
    "\n",
    "For this assignment we were asked to make a pseudo random number generator, and try to calculate Pi with it.\n",
    "\n",
    "In my random number generator, there will be 1000 numbers made between 0 and 1. These will be generated with different seeds between 1 and 101. \n",
    "\n",
    "From these generated number there will be an average calculated. The largest average is 0.5103128128128119, the smallest is 0.47297547547547586.\n",
    "\n",
    "At this point there is a not a whole lot I can say about the distribution of the numbers. The number can be ranging from 0.45 and 0.55, but also from 0 to 1. To fix this I used the <a href=\"https://en.wikipedia.org/wiki/Chi-squared_test\">Chi-Squared test</a>. For this I made a NumPy array with an interval of 0.1, between 0 and 1 of course. With the generated numbers I put them all in the according interval, so 0.483(...) would be in interval 0.4 and 0.5. After doing this I counted how many numbers would be in each interval, and put those in another array as well. I used these numbers as argument for the Chi-Squared test.\n",
    "\n",
    "Now I also need a hypotheses for the Chi-Squared test. So for this random number generator these would be: \n",
    "H0: the random generated numbers are be equally arranged between 0 and 1. \n",
    "H1: the random generated numbers aren't be equally arranged between 0 and 1. "
   ]
  },
  {
   "cell_type": "code",
   "execution_count": 2,
   "metadata": {},
   "outputs": [],
   "source": [
    "# function to calculate an avarage over a given list\n",
    "def average(given_numbers):\n",
    "    avg = 0\n",
    "    for i in given_numbers:\n",
    "        avg -= -i\n",
    "    avg /= (len(given_numbers)-1)\n",
    "    return avg\n",
    "\n",
    "\n",
    "def variation(given_numbers):\n",
    "    step_size = 0.1\n",
    "    interval = np.arange(0, 1.1, step = step_size)\n",
    "    bins = []\n",
    "\n",
    "    for i in range(len(interval)-1):\n",
    "        new_bin = []\n",
    "        for num in given_numbers:\n",
    "            if interval[i] < num and num <= interval[i+1]:\n",
    "                new_bin.append(num)\n",
    "        bins.append(new_bin)\n",
    "\n",
    "    return np.array(bins)\n",
    "\n",
    "\n",
    "def bin_counter(bins):\n",
    "    bin_count = []\n",
    "    for i in bins:\n",
    "        bin_count.append(len(i))\n",
    "    return bin_count\n",
    "\n",
    "\n",
    "# Pseudo random generator: made with the help of Computer Simulation Techniques by Harry Peros\n",
    "def random_generator(seed, amount):\n",
    "    # NOTE: set scenario for a guarantee full period\n",
    "    # m and c cannot have a common divisor\n",
    "    # a = 1 if m is a multiple of 4\n",
    "    # a = 1 if r is a prime factor of m. That is true, if r is a prime number that can devide m, then it divides a-1\n",
    "\n",
    "    a = 314\n",
    "    c = 453\n",
    "\n",
    "    sequence = []\n",
    "    previous_step = seed\n",
    "\n",
    "    for i in range(amount):\n",
    "        new_num = ((a * previous_step) + c) % m\n",
    "        previous_step = new_num\n",
    "        sequence.append(new_num/m)\n",
    "    return sequence\n",
    "\n",
    "\n",
    "def average_fluctuation():\n",
    "    averages = []\n",
    "    for i in range(1, 100):\n",
    "        gener_nums = random_generator(i, 1000)\n",
    "        averages.append(average(gener_nums))\n",
    "    return \"Smallest found average: \", min(averages), \" Biggest found average: \", max(averages)\n",
    "\n",
    "\n",
    "def test_generator():\n",
    "#     list_avg = []\n",
    "    for i in range(1, 101):\n",
    "        generated_numbers = random_generator(i, 1000)\n",
    "        bin_count = bin_counter(variation(generated_numbers))\n",
    "#         list_avg.append(average(generated_numbers))\n",
    "        print(\"Average of generated numbers: \", average(generated_numbers), st.chisquare(bin_count))\n",
    "#     print(max(list_avg),min(list_avg))\n",
    "    \n",
    "    \n",
    "def approach_pi():\n",
    "    temp = 0\n",
    "\n",
    "    calculated_pi = []\n",
    "    smallest_number = []\n",
    "    indexes_of_smallest_numbers = []\n",
    "\n",
    "    for i in range(1, m):\n",
    "        # Seed will have to be divided, because a larger seed will give worst results than a small(er) seed\n",
    "        x = random_generator(i / 10, 1)          # x and y will get an almost identical seed.\n",
    "        y = random_generator((i + 0.1) / 10, 1)  # because otherwise you'll get the same numbers (duh)\n",
    "\n",
    "        if math.sqrt(x[0]**2 + y[0]**2) <= 1:  # Chi-Squared partial\n",
    "            temp += 1\n",
    "        calculated_pi.append(4 * temp / (i + 1))\n",
    "\n",
    "    for i in range(len(calculated_pi)):\n",
    "        calc = abs(calculated_pi[i] - math.pi)\n",
    "        indexes_of_smallest_numbers.append(i)\n",
    "        smallest_number.append(calc)\n",
    "\n",
    "    closest_number = min(smallest_number)\n",
    "    index = indexes_of_smallest_numbers[smallest_number.index(closest_number)]\n",
    "    return calculated_pi[index]\n"
   ]
  },
  {
   "cell_type": "code",
   "execution_count": 3,
   "metadata": {},
   "outputs": [
    {
     "name": "stdout",
     "output_type": "stream",
     "text": [
      "Average of generated numbers:  0.4974124124124122 Power_divergenceResult(statistic=1.3, pvalue=0.998376448363871)\n",
      "Average of generated numbers:  0.49714964964964914 Power_divergenceResult(statistic=1.32, pvalue=0.9982748803902607)\n",
      "Average of generated numbers:  0.49688688688688704 Power_divergenceResult(statistic=1.92, pvalue=0.992670381452361)\n",
      "Average of generated numbers:  0.5006281281281282 Power_divergenceResult(statistic=0.04, pvalue=0.9999999995747214)\n",
      "Average of generated numbers:  0.5043693693693689 Power_divergenceResult(statistic=2.48, pvalue=0.9814165239127615)\n",
      "Average of generated numbers:  0.5011036036036035 Power_divergenceResult(statistic=2.26, pvalue=0.9866575153464129)\n",
      "Average of generated numbers:  0.4988388388388391 Power_divergenceResult(statistic=1.5, pvalue=0.9971467695059478)\n",
      "Average of generated numbers:  0.5005780780780776 Power_divergenceResult(statistic=0.72, pvalue=0.9998563709269627)\n",
      "Average of generated numbers:  0.49931431431431444 Power_divergenceResult(statistic=0.08, pvalue=0.9999999905330978)\n",
      "Average of generated numbers:  0.4970495495495495 Power_divergenceResult(statistic=2.3600000000000003, pvalue=0.9844145614247333)\n",
      "Average of generated numbers:  0.49678678678678717 Power_divergenceResult(statistic=1.2, pvalue=0.9988211034284458)\n",
      "Average of generated numbers:  0.4975250250250249 Power_divergenceResult(statistic=1.96, pvalue=0.9920844544932048)\n",
      "Average of generated numbers:  0.5062712712712706 Power_divergenceResult(statistic=2.16, pvalue=0.9886771887876641)\n",
      "Average of generated numbers:  0.5000025025025026 Power_divergenceResult(statistic=0.060000000000000005, pvalue=0.9999999973846284)\n",
      "Average of generated numbers:  0.49973973973973984 Power_divergenceResult(statistic=2.2, pvalue=0.9878955401745281)\n",
      "Average of generated numbers:  0.4954729729729726 Power_divergenceResult(statistic=1.4400000000000002, pvalue=0.9975678849665393)\n",
      "Average of generated numbers:  0.4982132132132135 Power_divergenceResult(statistic=2.76, pvalue=0.9730551948560341)\n",
      "Average of generated numbers:  0.4939464464464469 Power_divergenceResult(statistic=3.06, pvalue=0.9618685402618374)\n",
      "Average of generated numbers:  0.49268268268268284 Power_divergenceResult(statistic=0.0, pvalue=1.0)\n",
      "Average of generated numbers:  0.49842592592592605 Power_divergenceResult(statistic=1.86, pvalue=0.993492880233594)\n",
      "Average of generated numbers:  0.5071721721721725 Power_divergenceResult(statistic=1.76, pvalue=0.994719578783316)\n",
      "Average of generated numbers:  0.5019044044044045 Power_divergenceResult(statistic=1.4200000000000002, pvalue=0.9976978783968491)\n",
      "Average of generated numbers:  0.5026426426426425 Power_divergenceResult(statistic=1.42, pvalue=0.9976978783968491)\n",
      "Average of generated numbers:  0.499376876876877 Power_divergenceResult(statistic=0.060000000000000005, pvalue=0.9999999973846284)\n",
      "Average of generated numbers:  0.5011161161161158 Power_divergenceResult(statistic=0.7, pvalue=0.9998724430111405)\n",
      "Average of generated numbers:  0.4938463463463462 Power_divergenceResult(statistic=2.5199999999999996, pvalue=0.9803407774562369)\n",
      "Average of generated numbers:  0.49658658658658694 Power_divergenceResult(statistic=1.6199999999999999, pvalue=0.9961547834642349)\n",
      "Average of generated numbers:  0.4893168168168171 Power_divergenceResult(statistic=4.12, pvalue=0.9033382401439172)\n",
      "Average of generated numbers:  0.4990640640640641 Power_divergenceResult(statistic=0.1, pvalue=0.9999999743696746)\n",
      "Average of generated numbers:  0.5088113113113117 Power_divergenceResult(statistic=2.2800000000000002, pvalue=0.9862270680682951)\n",
      "Average of generated numbers:  0.4965365365365365 Power_divergenceResult(statistic=1.6400000000000001, pvalue=0.9959688029346574)\n",
      "Average of generated numbers:  0.5012787787787788 Power_divergenceResult(statistic=3.08, pvalue=0.9610385111509344)\n",
      "Average of generated numbers:  0.5010160160160162 Power_divergenceResult(statistic=2.0599999999999996, pvalue=0.9904828213720014)\n",
      "Average of generated numbers:  0.4997522522522522 Power_divergenceResult(statistic=0.09999999999999999, pvalue=0.9999999743696746)\n",
      "Average of generated numbers:  0.5014914914914907 Power_divergenceResult(statistic=2.06, pvalue=0.9904828213720014)\n",
      "Average of generated numbers:  0.5022297297297297 Power_divergenceResult(statistic=2.1799999999999997, pvalue=0.9882906848676851)\n",
      "Average of generated numbers:  0.4979629629629628 Power_divergenceResult(statistic=2.24, pvalue=0.9870790287063939)\n",
      "Average of generated numbers:  0.49569819819819844 Power_divergenceResult(statistic=2.3600000000000003, pvalue=0.9844145614247333)\n",
      "Average of generated numbers:  0.5004404404404402 Power_divergenceResult(statistic=0.02, pvalue=0.9999999999810508)\n",
      "Average of generated numbers:  0.4961736736736735 Power_divergenceResult(statistic=2.0599999999999996, pvalue=0.9904828213720014)\n",
      "Average of generated numbers:  0.508923923923924 Power_divergenceResult(statistic=2.02, pvalue=0.9911473663972106)\n",
      "Average of generated numbers:  0.5046571571571572 Power_divergenceResult(statistic=2.2, pvalue=0.9878955401745281)\n",
      "Average of generated numbers:  0.49738738738738736 Power_divergenceResult(statistic=2.0399999999999996, pvalue=0.9908191330550375)\n",
      "Average of generated numbers:  0.49211961961961986 Power_divergenceResult(statistic=0.02, pvalue=0.9999999999810508)\n",
      "Average of generated numbers:  0.49986486486486487 Power_divergenceResult(statistic=1.7, pvalue=0.9953733767840198)\n",
      "Average of generated numbers:  0.4976001001001006 Power_divergenceResult(statistic=1.3800000000000001, pvalue=0.9979429465340565)\n",
      "Average of generated numbers:  0.5023423423423422 Power_divergenceResult(statistic=1.98, pvalue=0.9917799401464803)\n",
      "Average of generated numbers:  0.4980755755755754 Power_divergenceResult(statistic=1.7000000000000002, pvalue=0.9953733767840198)\n",
      "Average of generated numbers:  0.4998148148148148 Power_divergenceResult(statistic=0.060000000000000005, pvalue=0.9999999973846284)\n",
      "Average of generated numbers:  0.4945470470470475 Power_divergenceResult(statistic=3.04, pvalue=0.9626879505773336)\n",
      "Average of generated numbers:  0.5012912912912915 Power_divergenceResult(statistic=2.04, pvalue=0.9908191330550375)\n",
      "Average of generated numbers:  0.5010285285285283 Power_divergenceResult(statistic=3.3, pvalue=0.9512046906840971)\n",
      "Average of generated numbers:  0.5047697697697695 Power_divergenceResult(statistic=1.86, pvalue=0.993492880233594)\n",
      "Average of generated numbers:  0.4995020020020022 Power_divergenceResult(statistic=0.060000000000000005, pvalue=0.9999999973846284)\n",
      "Average of generated numbers:  0.4992392392392394 Power_divergenceResult(statistic=2.1, pvalue=0.9897856280084842)\n",
      "Average of generated numbers:  0.5009784784784784 Power_divergenceResult(statistic=2.88, pvalue=0.9688629453929426)\n",
      "Average of generated numbers:  0.4987137137137132 Power_divergenceResult(statistic=0.66, pvalue=0.9999005172322651)\n",
      "Average of generated numbers:  0.499451951951952 Power_divergenceResult(statistic=1.6, pvalue=0.9963346891041484)\n",
      "Average of generated numbers:  0.5001901901901902 Power_divergenceResult(statistic=0.02, pvalue=0.9999999999810508)\n",
      "Average of generated numbers:  0.5019294294294291 Power_divergenceResult(statistic=0.98, pvalue=0.9994822265304183)\n",
      "Average of generated numbers:  0.4966616616616617 Power_divergenceResult(statistic=1.8599999999999997, pvalue=0.993492880233594)\n",
      "Average of generated numbers:  0.5024049049049049 Power_divergenceResult(statistic=2.1, pvalue=0.9897856280084842)\n",
      "Average of generated numbers:  0.4981381381381383 Power_divergenceResult(statistic=2.2, pvalue=0.9878955401745281)\n",
      "Average of generated numbers:  0.5008783783783783 Power_divergenceResult(statistic=0.09999999999999999, pvalue=0.9999999743696746)\n",
      "Average of generated numbers:  0.5006156156156152 Power_divergenceResult(statistic=1.1, pvalue=0.9991703522678543)\n",
      "Average of generated numbers:  0.4963488488488488 Power_divergenceResult(statistic=1.6600000000000001, pvalue=0.9957766436653857)\n",
      "Average of generated numbers:  0.49308308308308285 Power_divergenceResult(statistic=2.6999999999999997, pvalue=0.9750124099827303)\n",
      "Average of generated numbers:  0.4998273273273273 Power_divergenceResult(statistic=1.7, pvalue=0.9953733767840198)\n",
      "Average of generated numbers:  0.4935585585585583 Power_divergenceResult(statistic=40.84, pvalue=5.348703168393076e-06)\n",
      "Average of generated numbers:  0.5103128128128119 Power_divergenceResult(statistic=2.3, pvalue=0.985787616930893)\n",
      "Average of generated numbers:  0.5090490490490494 Power_divergenceResult(statistic=2.68, pvalue=0.9756444707130532)\n",
      "Average of generated numbers:  0.49877627627627646 Power_divergenceResult(statistic=2.58, pvalue=0.9786540235805234)\n",
      "Average of generated numbers:  0.4995145145145148 Power_divergenceResult(statistic=1.46, pvalue=0.9974327742702961)\n",
      "Average of generated numbers:  0.5022547547547547 Power_divergenceResult(statistic=0.08, pvalue=0.9999999905330978)\n",
      "Average of generated numbers:  0.4959859859859862 Power_divergenceResult(statistic=2.7399999999999998, pvalue=0.973717809836578)\n",
      "Average of generated numbers:  0.4977252252252255 Power_divergenceResult(statistic=1.96, pvalue=0.9920844544932048)\n",
      "Average of generated numbers:  0.49946446446446474 Power_divergenceResult(statistic=2.38, pvalue=0.9839384228053996)\n",
      "Average of generated numbers:  0.5002027027027027 Power_divergenceResult(statistic=1.86, pvalue=0.993492880233594)\n",
      "Average of generated numbers:  0.49993993993993985 Power_divergenceResult(statistic=0.04, pvalue=0.9999999995747214)\n",
      "Average of generated numbers:  0.4986761761761763 Power_divergenceResult(statistic=0.5800000000000001, pvalue=0.9999425469806461)\n",
      "Average of generated numbers:  0.4974124124124123 Power_divergenceResult(statistic=1.92, pvalue=0.992670381452361)\n",
      "Average of generated numbers:  0.4981506506506505 Power_divergenceResult(statistic=3.58, pvalue=0.9368230917879654)\n",
      "Average of generated numbers:  0.49588588588588584 Power_divergenceResult(statistic=2.38, pvalue=0.9839384228053996)\n",
      "Average of generated numbers:  0.5006281281281283 Power_divergenceResult(statistic=0.08, pvalue=0.9999999905330978)\n",
      "Average of generated numbers:  0.4983633633633634 Power_divergenceResult(statistic=0.96, pvalue=0.9995242858275887)\n",
      "Average of generated numbers:  0.49910160160160194 Power_divergenceResult(statistic=2.0399999999999996, pvalue=0.9908191330550375)\n"
     ]
    },
    {
     "name": "stdout",
     "output_type": "stream",
     "text": [
      "Average of generated numbers:  0.49683683683683677 Power_divergenceResult(statistic=1.6, pvalue=0.9963346891041484)\n",
      "Average of generated numbers:  0.5055830830830823 Power_divergenceResult(statistic=1.7, pvalue=0.9953733767840198)\n",
      "Average of generated numbers:  0.5003153153153155 Power_divergenceResult(statistic=0.04, pvalue=0.9999999995747214)\n",
      "Average of generated numbers:  0.4950475475475474 Power_divergenceResult(statistic=2.6, pvalue=0.9780720677116449)\n",
      "Average of generated numbers:  0.4967867867867872 Power_divergenceResult(statistic=1.3800000000000001, pvalue=0.9979429465340565)\n",
      "Average of generated numbers:  0.495523023023023 Power_divergenceResult(statistic=1.62, pvalue=0.9961547834642349)\n",
      "Average of generated numbers:  0.4982632632632634 Power_divergenceResult(statistic=2.0999999999999996, pvalue=0.9897856280084842)\n",
      "Average of generated numbers:  0.47297547547547586 Power_divergenceResult(statistic=0.02, pvalue=0.9999999999810508)\n",
      "Average of generated numbers:  0.506746746746747 Power_divergenceResult(statistic=2.1799999999999997, pvalue=0.9882906848676851)\n",
      "Average of generated numbers:  0.49947697697697707 Power_divergenceResult(statistic=1.64, pvalue=0.9959688029346574)\n",
      "Average of generated numbers:  0.49721221221221246 Power_divergenceResult(statistic=1.2400000000000002, pvalue=0.9986554444786051)\n",
      "Average of generated numbers:  0.49194444444444474 Power_divergenceResult(statistic=3.44, pvalue=0.9442742502903567)\n",
      "Average of generated numbers:  0.5006906906906907 Power_divergenceResult(statistic=0.0, pvalue=1.0)\n",
      "Average of generated numbers:  0.4944219219219222 Power_divergenceResult(statistic=2.3600000000000003, pvalue=0.9844145614247333)\n",
      "\n",
      "Average fluctuation from seed 1 to 101:  ('Smallest found average: ', 0.47297547547547586, ' Biggest found average: ', 0.5103128128128119)\n",
      "Pi-Approach: 3.141544117647059 Actual Pi: 3.141592653589793\n"
     ]
    },
    {
     "data": {
      "image/png": "[encoded data removed]",
      "text/plain": [
       "<Figure size 432x288 with 1 Axes>"
      ]
     },
     "metadata": {
      "needs_background": "light"
     },
     "output_type": "display_data"
    }
   ],
   "source": [
    "test_generator()\n",
    "print()\n",
    "print(\"Average fluctuation from seed 1 to 101: \", average_fluctuation())\n",
    "print(\"Pi-Approach:\", approach_pi(), \"Actual Pi:\", math.pi)\n",
    "\n",
    "plt.hist(random_generator(100, 1000))\n",
    "plt.show()"
   ]
  },
  {
   "cell_type": "markdown",
   "metadata": {},
   "source": [
    "At seed 100, the average is 0.4944219219219222. The statistic is 2.36(00000000000003) at this given seed. This means that at this given seed there is a 2.36% chance that the numbers are equally aranged. So H0 hasn't been rejected. "
   ]
  },
  {
   "cell_type": "code",
   "execution_count": 4,
   "metadata": {},
   "outputs": [
    {
     "data": {
      "image/png": "[encoded data removed]",
      "text/plain": [
       "<Figure size 432x288 with 1 Axes>"
      ]
     },
     "metadata": {
      "needs_background": "light"
     },
     "output_type": "display_data"
    },
    {
     "name": "stdout",
     "output_type": "stream",
     "text": [
      "Random numbers ammount: 10\n"
     ]
    }
   ],
   "source": [
    "plt.hist(random_generator(100, 10))\n",
    "plt.show()\n",
    "print(\"Random numbers ammount: 10\")"
   ]
  },
  {
   "cell_type": "code",
   "execution_count": 5,
   "metadata": {},
   "outputs": [
    {
     "data": {
      "image/png": "[encoded data removed]",
      "text/plain": [
       "<Figure size 432x288 with 1 Axes>"
      ]
     },
     "metadata": {
      "needs_background": "light"
     },
     "output_type": "display_data"
    },
    {
     "name": "stdout",
     "output_type": "stream",
     "text": [
      "Random numbers ammount: 100\n"
     ]
    }
   ],
   "source": [
    "plt.hist(random_generator(100, 100))\n",
    "plt.show()\n",
    "print(\"Random numbers ammount: 100\")"
   ]
  },
  {
   "cell_type": "code",
   "execution_count": 6,
   "metadata": {},
   "outputs": [
    {
     "data": {
      "image/png": "[encoded data removed]",
      "text/plain": [
       "<Figure size 432x288 with 1 Axes>"
      ]
     },
     "metadata": {
      "needs_background": "light"
     },
     "output_type": "display_data"
    },
    {
     "name": "stdout",
     "output_type": "stream",
     "text": [
      "Random numbers ammount: 10000\n"
     ]
    }
   ],
   "source": [
    "plt.hist(random_generator(100,10000))\n",
    "plt.show()\n",
    "print(\"Random numbers ammount: 10000\")"
   ]
  },
  {
   "cell_type": "markdown",
   "metadata": {},
   "source": [
    "With this code I found out that the more numbers you generate, the closer you get to a true equal arrangment. (see above)"
   ]
  }
 ],
 "metadata": {
  "kernelspec": {
   "display_name": "Python 3",
   "language": "python",
   "name": "python3"
  },
  "language_info": {
   "codemirror_mode": {
    "name": "ipython",
    "version": 3
   },
   "file_extension": ".py",
   "mimetype": "text/x-python",
   "name": "python",
   "nbconvert_exporter": "python",
   "pygments_lexer": "ipython3",
   "version": "3.7.4"
  }
 },
 "nbformat": 4,
 "nbformat_minor": 2
}
