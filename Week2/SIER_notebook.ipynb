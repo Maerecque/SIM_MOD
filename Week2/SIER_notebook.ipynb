{
 "cells": [
  {
   "cell_type": "code",
   "execution_count": null,
   "metadata": {},
   "outputs": [],
   "source": [
    "import numpy as np\n",
    "import matplotlib.pyplot as plt"
   ]
  },
  {
   "cell_type": "code",
   "execution_count": null,
   "metadata": {},
   "outputs": [],
   "source": [
    "population = 55000000\n",
    "contacts_per_day = 49\n",
    "chance_infection = 0.09\n",
    "transmission_coeff = chance_infection * (1/population) * contacts_per_day\n",
    "duration = 65\n",
    "step_size = 0.5\n",
    "h = step_size\n",
    "infectious_time = 5\n",
    "\n",
    "i0 = 1e5\n",
    "r0 = 1e6\n",
    "e0 = 0\n",
    "s0 = population - i0 - r0 - e0\n",
    "\n",
    "beta = transmission_coeff"
   ]
  },
  {
   "cell_type": "code",
   "execution_count": null,
   "metadata": {},
   "outputs": [],
   "source": [
    "def seir_model(s0,e0,i0,r0,latency):\n",
    "    latency_time = latency\n",
    "    \n",
    "    s = np.zeros(duration + 1)\n",
    "    e = np.zeros(duration + 1)\n",
    "    i = np.zeros(duration + 1)\n",
    "    r = np.zeros(duration + 1)\n",
    "    \n",
    "    t = np.zeros(duration + 1)\n",
    "\n",
    "    e[0] = e0\n",
    "    i[0] = i0\n",
    "    r[0] = r0\n",
    "    s[0] = s0\n",
    "\n",
    "    for step in range(duration):\n",
    "        s2e = h * beta * s[step] * i[step]\n",
    "        e2i = h / latency_time * e[step]\n",
    "        i2r = h / infectious_time * i[step]\n",
    "\n",
    "        s[step+1] = s[step] - s2e\n",
    "        e[step+1] = e[step] + s2e - e2i\n",
    "        i[step+1] = i[step] + e2i - i2r\n",
    "        r[step+1] = r[step] + i2r\n",
    "        \n",
    "        t[step+1] = step\n",
    "\n",
    "    return s, e, i, r, t"
   ]
  },
  {
   "cell_type": "code",
   "execution_count": null,
   "metadata": {},
   "outputs": [],
   "source": [
    "def plot_me(S, E, I, R, times):\n",
    "    plt.plot(times, S, '-b', label = \"Susceptible\")\n",
    "    plt.plot(times, E, '-y', label = \"Exposed\")\n",
    "    plt.plot(times, I, '-r', label = \"Infected\")\n",
    "    plt.plot(times, R, '-g', label = \"Recovered\")\n",
    "    \n",
    "    plt.xlabel('Time in days')\n",
    "    plt.ylabel('Population in millions')\n",
    "    plt.legend()\n",
    "    plt.show()"
   ]
  },
  {
   "cell_type": "markdown",
   "metadata": {},
   "source": [
    "### A) Stel een SIR-model op voor jouw situatie. Laat duidelijk zien hoe de constanten zijn afgeleid."
   ]
  },
  {
   "cell_type": "code",
   "execution_count": null,
   "metadata": {},
   "outputs": [],
   "source": [
    "plot_me(*seir_model(s0,e0,i0,r0,1))"
   ]
  },
  {
   "cell_type": "markdown",
   "metadata": {},
   "source": [
    "### B) Hoeveel mensen moeten gevaccineerd worden om een epidemie te voorkomen?"
   ]
  },
  {
   "cell_type": "code",
   "execution_count": null,
   "metadata": {},
   "outputs": [],
   "source": [
    "amount_vaccines = ((1 / infectious_time) / (transmission_coeff * population))\n",
    "amount_vaccines"
   ]
  },
  {
   "cell_type": "markdown",
   "metadata": {},
   "source": [
    "### C) Introduceer een latency van twee dagen in je model en maak plots van het verloop van de ziekte in jouw populatie."
   ]
  },
  {
   "cell_type": "code",
   "execution_count": null,
   "metadata": {},
   "outputs": [],
   "source": [
    "plot_me(*seir_model(s0,e0,i0,r0,2))"
   ]
  },
  {
   "cell_type": "code",
   "execution_count": null,
   "metadata": {},
   "outputs": [],
   "source": []
  }
 ],
 "metadata": {
  "kernelspec": {
   "display_name": "Python 3",
   "language": "python",
   "name": "python3"
  },
  "language_info": {
   "codemirror_mode": {
    "name": "ipython",
    "version": 3
   },
   "file_extension": ".py",
   "mimetype": "text/x-python",
   "name": "python",
   "nbconvert_exporter": "python",
   "pygments_lexer": "ipython3",
   "version": "3.7.0"
  }
 },
 "nbformat": 4,
 "nbformat_minor": 2
}
